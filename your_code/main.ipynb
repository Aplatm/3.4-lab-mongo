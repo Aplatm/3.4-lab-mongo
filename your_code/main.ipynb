{
 "cells": [
  {
   "cell_type": "markdown",
   "metadata": {},
   "source": [
    "# Advanced Querying Mongo"
   ]
  },
  {
   "cell_type": "markdown",
   "metadata": {},
   "source": [
    "Importing libraries and setting up connection"
   ]
  },
  {
   "cell_type": "code",
   "execution_count": 90,
   "metadata": {},
   "outputs": [],
   "source": [
    "from pymongo import MongoClient\n",
    "client = MongoClient()"
   ]
  },
  {
   "cell_type": "code",
   "execution_count": 91,
   "outputs": [
    {
     "data": {
      "text/plain": "['admin', 'companies', 'config', 'local']"
     },
     "execution_count": 91,
     "metadata": {},
     "output_type": "execute_result"
    }
   ],
   "source": [
    "client.list_database_names() # List of databases"
   ],
   "metadata": {
    "collapsed": false,
    "pycharm": {
     "name": "#%%\n"
    }
   }
  },
  {
   "cell_type": "markdown",
   "metadata": {},
   "source": [
    "### 1. All the companies whose name match 'Babelgum'. Retrieve only their `name` field."
   ]
  },
  {
   "cell_type": "code",
   "execution_count": 92,
   "outputs": [
    {
     "data": {
      "text/plain": "['companies']"
     },
     "execution_count": 92,
     "metadata": {},
     "output_type": "execute_result"
    }
   ],
   "source": [
    "db = client.companies# Connect to the database\n",
    "collection = db.companies# Connect to the collection\n",
    "db.list_collection_names()# List of collections"
   ],
   "metadata": {
    "collapsed": false,
    "pycharm": {
     "name": "#%%\n"
    }
   }
  },
  {
   "cell_type": "code",
   "execution_count": null,
   "outputs": [],
   "source": [],
   "metadata": {
    "collapsed": false,
    "pycharm": {
     "name": "#%%\n"
    }
   }
  },
  {
   "cell_type": "code",
   "execution_count": 93,
   "outputs": [
    {
     "data": {
      "text/plain": "[{'name': 'Babelgum'}]"
     },
     "execution_count": 93,
     "metadata": {},
     "output_type": "execute_result"
    }
   ],
   "source": [
    "list(collection.find({'name':'Babelgum'},{'_id':0, 'name':1}))"
   ],
   "metadata": {
    "collapsed": false,
    "pycharm": {
     "name": "#%%\n"
    }
   }
  },
  {
   "cell_type": "markdown",
   "metadata": {},
   "source": [
    "### 2. All the companies that have more than 5000 employees. Limit the search to 20 companies and sort them by **number of employees**."
   ]
  },
  {
   "cell_type": "code",
   "execution_count": 94,
   "metadata": {},
   "outputs": [
    {
     "data": {
      "text/plain": "[{'name': 'Siemens', 'number_of_employees': 405000},\n {'name': 'IBM', 'number_of_employees': 388000},\n {'name': 'Toyota', 'number_of_employees': 320000},\n {'name': 'PayPal', 'number_of_employees': 300000},\n {'name': 'Nippon Telegraph and Telephone Corporation',\n  'number_of_employees': 227000},\n {'name': 'Samsung Electronics', 'number_of_employees': 221726},\n {'name': 'Accenture', 'number_of_employees': 205000},\n {'name': 'Tata Consultancy Services', 'number_of_employees': 200300},\n {'name': 'Flextronics International', 'number_of_employees': 200000},\n {'name': 'Safeway', 'number_of_employees': 186000},\n {'name': 'Sony', 'number_of_employees': 180500},\n {'name': 'LG', 'number_of_employees': 177000},\n {'name': 'Ford', 'number_of_employees': 171000},\n {'name': 'Boeing', 'number_of_employees': 160000},\n {'name': 'Digital Equipment Corporation', 'number_of_employees': 140000},\n {'name': 'Nokia', 'number_of_employees': 125000},\n {'name': 'MItsubishi Electric', 'number_of_employees': 107000},\n {'name': 'MItsubishi Electric', 'number_of_employees': 107000},\n {'name': 'Comcast', 'number_of_employees': 100000},\n {'name': 'Bertelsmann', 'number_of_employees': 100000}]"
     },
     "execution_count": 94,
     "metadata": {},
     "output_type": "execute_result"
    }
   ],
   "source": [
    "list(collection.find({'number_of_employees':{'$gt':5000}},\n",
    "                     {'_id' : 0, 'name':1,'number_of_employees':1}).limit(20).sort('number_of_employees',-1))"
   ]
  },
  {
   "cell_type": "markdown",
   "metadata": {},
   "source": [
    "### 3. All the companies founded between 2000 and 2005, both years included. Retrieve only the `name` and `founded_year` fields."
   ]
  },
  {
   "cell_type": "code",
   "execution_count": 95,
   "metadata": {},
   "outputs": [
    {
     "data": {
      "text/plain": "[{'name': 'Wetpaint', 'founded_year': 2005},\n {'name': 'Zoho', 'founded_year': 2005},\n {'name': 'Digg', 'founded_year': 2004}]"
     },
     "execution_count": 95,
     "metadata": {},
     "output_type": "execute_result"
    }
   ],
   "source": [
    "list(collection.find({'founded_year':{'$gte':2000,'$lte':2005}},\n",
    "                     {'_id':0,'name':1,'founded_year':1}).limit(3))"
   ]
  },
  {
   "cell_type": "markdown",
   "metadata": {},
   "source": [
    "### 4. All the companies that had a Valuation Amount of more than 100.000.000 and have been founded before 2010. Retrieve only the `name` and `ipo` fields."
   ]
  },
  {
   "cell_type": "code",
   "execution_count": 96,
   "metadata": {},
   "outputs": [
    {
     "data": {
      "text/plain": "[{'name': 'Facebook',\n  'ipo': {'valuation_amount': 104000000000,\n   'valuation_currency_code': 'USD',\n   'pub_year': 2012,\n   'pub_month': 5,\n   'pub_day': 18,\n   'stock_symbol': 'NASDAQ:FB'}},\n {'name': 'Twitter',\n  'ipo': {'valuation_amount': 18100000000,\n   'valuation_currency_code': 'USD',\n   'pub_year': 2013,\n   'pub_month': 11,\n   'pub_day': 7,\n   'stock_symbol': 'NYSE:TWTR'}},\n {'name': 'Yelp',\n  'ipo': {'valuation_amount': 1300000000,\n   'valuation_currency_code': 'USD',\n   'pub_year': 2012,\n   'pub_month': 3,\n   'pub_day': 2,\n   'stock_symbol': 'NYSE:YELP'}}]"
     },
     "execution_count": 96,
     "metadata": {},
     "output_type": "execute_result"
    }
   ],
   "source": [
    "list(collection.find({'$and':[{'ipo.valuation_amount':{'$gt':10000000}},\n",
    "                              {'founded_year':{'$lt':2010}}]},\n",
    "                              {'_id':0,'name':1,'ipo':1}).limit(3))"
   ]
  },
  {
   "cell_type": "markdown",
   "metadata": {},
   "source": [
    "### 5. All the companies that have less than 1000 employees and have been founded before 2005. Order them by the number of employees and limit the search to 10 companies."
   ]
  },
  {
   "cell_type": "code",
   "execution_count": 97,
   "metadata": {},
   "outputs": [
    {
     "data": {
      "text/plain": "[{'name': 'Infinera Corporation', 'number_of_employees': 974},\n {'name': 'NorthPoint Communications Group', 'number_of_employees': 948},\n {'name': '888 Holdings', 'number_of_employees': 931},\n {'name': 'Forrester Research', 'number_of_employees': 903},\n {'name': 'SonicWALL', 'number_of_employees': 900},\n {'name': 'Webmetrics', 'number_of_employees': 900},\n {'name': 'Cornerstone OnDemand', 'number_of_employees': 881},\n {'name': 'Mozilla', 'number_of_employees': 800},\n {'name': 'Buongiorno', 'number_of_employees': 800},\n {'name': 'Yelp', 'number_of_employees': 800}]"
     },
     "execution_count": 97,
     "metadata": {},
     "output_type": "execute_result"
    }
   ],
   "source": [
    "list(collection.find({'$and':[{'number_of_employees':{'$lt':1000}},{'founded_year':{'$lt':2005}}]},\n",
    "                     {'_id':0,'name':1,'number_of_employees':1}).limit(10).sort('number_of_employees',-1))"
   ]
  },
  {
   "cell_type": "markdown",
   "metadata": {},
   "source": [
    "### 6. All the companies that don't include the `partners` field."
   ]
  },
  {
   "cell_type": "code",
   "execution_count": 98,
   "metadata": {},
   "outputs": [
    {
     "data": {
      "text/plain": "[{'name': 'Wetpaint', 'partners': []},\n {'name': 'AdventNet', 'partners': []},\n {'name': 'Zoho', 'partners': []}]"
     },
     "execution_count": 98,
     "metadata": {},
     "output_type": "execute_result"
    }
   ],
   "source": [
    "list(collection.find({'partners':{'$size':0}},\n",
    "                     {'_id':0,'name':1,'partners':1}).limit(3))"
   ]
  },
  {
   "cell_type": "markdown",
   "metadata": {},
   "source": [
    "### 7. All the companies that have a null type of value on the `category_code` field."
   ]
  },
  {
   "cell_type": "code",
   "execution_count": 99,
   "metadata": {},
   "outputs": [
    {
     "data": {
      "text/plain": "[{'name': 'Collective', 'category_code': None},\n {'name': 'Snimmer', 'category_code': None},\n {'name': 'KoolIM', 'category_code': None}]"
     },
     "execution_count": 99,
     "metadata": {},
     "output_type": "execute_result"
    }
   ],
   "source": [
    "list(collection.find({'category_code':None},\n",
    "                     {'_id':0,'name':1,'category_code':1}).limit(3))"
   ]
  },
  {
   "cell_type": "markdown",
   "metadata": {},
   "source": [
    "### 8. All the companies that have at least 100 employees but less than 1000. Retrieve only the `name` and `number of employees` fields."
   ]
  },
  {
   "cell_type": "code",
   "execution_count": 100,
   "metadata": {},
   "outputs": [
    {
     "data": {
      "text/plain": "[{'name': 'AdventNet', 'number_of_employees': 600},\n {'name': 'AddThis', 'number_of_employees': 120},\n {'name': 'OpenX', 'number_of_employees': 305}]"
     },
     "execution_count": 100,
     "metadata": {},
     "output_type": "execute_result"
    }
   ],
   "source": [
    "list(collection.find({'$and':[{'number_of_employees':{'$gte':100}},{'number_of_employees':{'$lt':1000}}]},\n",
    "                     {'_id':0,'name':1,'number_of_employees':1}).limit(3))"
   ]
  },
  {
   "cell_type": "markdown",
   "metadata": {},
   "source": [
    "### 9. Order all the companies by their IPO price in a descending order."
   ]
  },
  {
   "cell_type": "code",
   "execution_count": 101,
   "metadata": {},
   "outputs": [
    {
     "data": {
      "text/plain": "[{'name': 'Wetpaint'}, {'name': 'AdventNet'}, {'name': 'Zoho'}]"
     },
     "execution_count": 101,
     "metadata": {},
     "output_type": "execute_result"
    }
   ],
   "source": [
    "list(collection.find({},{'_id':0,'name':1,'ipo.price':1}).limit(3).sort('ipo.price',-1))"
   ]
  },
  {
   "cell_type": "markdown",
   "metadata": {},
   "source": [
    "### 10. Retrieve the 10 companies with more employees, order by the `number of employees`"
   ]
  },
  {
   "cell_type": "code",
   "execution_count": 102,
   "metadata": {},
   "outputs": [
    {
     "data": {
      "text/plain": "[{'name': 'Siemens', 'number_of_employees': 405000},\n {'name': 'IBM', 'number_of_employees': 388000},\n {'name': 'Toyota', 'number_of_employees': 320000},\n {'name': 'PayPal', 'number_of_employees': 300000},\n {'name': 'Nippon Telegraph and Telephone Corporation',\n  'number_of_employees': 227000},\n {'name': 'Samsung Electronics', 'number_of_employees': 221726},\n {'name': 'Accenture', 'number_of_employees': 205000},\n {'name': 'Tata Consultancy Services', 'number_of_employees': 200300},\n {'name': 'Flextronics International', 'number_of_employees': 200000},\n {'name': 'Safeway', 'number_of_employees': 186000}]"
     },
     "execution_count": 102,
     "metadata": {},
     "output_type": "execute_result"
    }
   ],
   "source": [
    "list(collection.find({},{'_id':0,'name':1,'number_of_employees':1}).limit(10).sort('number_of_employees',-1))"
   ]
  },
  {
   "cell_type": "markdown",
   "metadata": {},
   "source": [
    "### 11. All the companies founded on the second semester of the year. Limit your search to 1000 companies."
   ]
  },
  {
   "cell_type": "code",
   "execution_count": 106,
   "metadata": {},
   "outputs": [
    {
     "data": {
      "text/plain": "[{'name': 'Wetpaint', 'founded_month': 10},\n {'name': 'Zoho', 'founded_month': 9},\n {'name': 'Digg', 'founded_month': 10}]"
     },
     "execution_count": 106,
     "metadata": {},
     "output_type": "execute_result"
    }
   ],
   "source": [
    "list(collection.find({'founded_month':{'$gt':6}},\n",
    "                     {'_id':0,'name':1,'founded_month':1}).limit(3))"
   ]
  },
  {
   "cell_type": "markdown",
   "metadata": {},
   "source": [
    "### 12. All the companies founded before 2000 that have an acquisition amount of more than 10.000.00"
   ]
  },
  {
   "cell_type": "code",
   "execution_count": 110,
   "metadata": {},
   "outputs": [
    {
     "data": {
      "text/plain": "[{'name': 'Postini', 'acquisition': {'price_amount': 625000000}},\n {'name': 'SideStep', 'acquisition': {'price_amount': 180000000}},\n {'name': 'Recipezaar', 'acquisition': {'price_amount': 25000000}}]"
     },
     "execution_count": 110,
     "metadata": {},
     "output_type": "execute_result"
    }
   ],
   "source": [
    "list(collection.find({'$and':[{'founded_year':{'$lt':2000}},{'acquisition.price_amount':{'$gt':10000}}]},\n",
    "                     {'_id':0,'name':1,'acquisition.price_amount':1}).limit(3))"
   ]
  },
  {
   "cell_type": "markdown",
   "metadata": {},
   "source": [
    "### 13. All the companies that have been acquired after 2010, order by the acquisition amount, and retrieve only their `name` and `acquisition` field."
   ]
  },
  {
   "cell_type": "code",
   "execution_count": 111,
   "metadata": {},
   "outputs": [
    {
     "data": {
      "text/plain": "[{'name': 'T-Mobile',\n  'acquisition': {'price_amount': 39000000000,\n   'price_currency_code': 'USD',\n   'term_code': None,\n   'source_url': 'http://techcrunch.com/2011/03/20/in-the-race-for-more-spectrum-att-is-acquiring-t-mobile-for-39-billion/',\n   'source_description': 'In The Race For More Spectrum, AT&T Is Acquiring T-Mobile For $39 Billion',\n   'acquired_year': 2011,\n   'acquired_month': 3,\n   'acquired_day': 20,\n   'acquiring_company': {'name': 'AT&T', 'permalink': 'at-t'}}},\n {'name': 'Goodrich Corporation',\n  'acquisition': {'price_amount': 18400000000,\n   'price_currency_code': 'USD',\n   'term_code': None,\n   'source_url': 'http://www.masshightech.com/stories/2011/09/19/daily37-UTC-shells-out-184-billion-for-Goodrich.html',\n   'source_description': 'UTC shells out $18.4 billion for Goodrich',\n   'acquired_year': 2011,\n   'acquired_month': 9,\n   'acquired_day': 22,\n   'acquiring_company': {'name': 'United Technologies',\n    'permalink': 'united-technologies'}}},\n {'name': 'LSI',\n  'acquisition': {'price_amount': 6600000000,\n   'price_currency_code': 'USD',\n   'term_code': 'cash',\n   'source_url': 'http://dealbook.nytimes.com/2013/12/16/avago-to-buy-lsi-for-6-6-billion/?_r=0',\n   'source_description': 'Avago to Buy LSI for $6.6 Billion',\n   'acquired_year': 2013,\n   'acquired_month': 12,\n   'acquired_day': 16,\n   'acquiring_company': {'name': 'Avago Technologies',\n    'permalink': 'avago-technologies'}}}]"
     },
     "execution_count": 111,
     "metadata": {},
     "output_type": "execute_result"
    }
   ],
   "source": [
    "list(collection.find({'acquisition.acquired_year':{'$gt':2010}},\n",
    "                     {'_id':0,'name':1,'acquisition':1}).limit(3).sort('acquisition.price_amount',-1))"
   ]
  },
  {
   "cell_type": "markdown",
   "metadata": {},
   "source": [
    "### 14. Order the companies by their `founded year`, retrieving only their `name` and `founded year`."
   ]
  },
  {
   "cell_type": "code",
   "execution_count": null,
   "metadata": {},
   "outputs": [],
   "source": [
    "# Your Code"
   ]
  },
  {
   "cell_type": "markdown",
   "metadata": {},
   "source": [
    "### 15. All the companies that have been founded on the first seven days of the month, including the seventh. Sort them by their `acquisition price` in a descending order. Limit the search to 10 documents."
   ]
  },
  {
   "cell_type": "code",
   "execution_count": null,
   "metadata": {},
   "outputs": [],
   "source": [
    "# Your Code"
   ]
  },
  {
   "cell_type": "markdown",
   "metadata": {},
   "source": [
    "### 16. All the companies on the 'web' `category` that have more than 4000 employees. Sort them by the amount of employees in ascending order."
   ]
  },
  {
   "cell_type": "code",
   "execution_count": null,
   "metadata": {},
   "outputs": [],
   "source": [
    "# Your Code"
   ]
  },
  {
   "cell_type": "markdown",
   "metadata": {},
   "source": [
    "### 17. All the companies whose acquisition amount is more than 10.000.000, and currency is 'EUR'."
   ]
  },
  {
   "cell_type": "code",
   "execution_count": null,
   "metadata": {},
   "outputs": [],
   "source": [
    "# Your Code"
   ]
  },
  {
   "cell_type": "markdown",
   "metadata": {},
   "source": [
    "### 18. All the companies that have been acquired on the first trimester of the year. Limit the search to 10 companies, and retrieve only their `name` and `acquisition` fields."
   ]
  },
  {
   "cell_type": "code",
   "execution_count": null,
   "metadata": {},
   "outputs": [],
   "source": [
    "# Your Code"
   ]
  },
  {
   "cell_type": "markdown",
   "metadata": {},
   "source": [
    "# Bonus\n",
    "### 19. All the companies that have been founded between 2000 and 2010, but have not been acquired before 2011."
   ]
  },
  {
   "cell_type": "code",
   "execution_count": null,
   "metadata": {},
   "outputs": [],
   "source": [
    "# Your Code"
   ]
  },
  {
   "cell_type": "markdown",
   "metadata": {},
   "source": [
    "### 20. All the companies that have been 'deadpooled' after the third year."
   ]
  },
  {
   "cell_type": "code",
   "execution_count": null,
   "metadata": {},
   "outputs": [],
   "source": [
    "# Your Code"
   ]
  }
 ],
 "metadata": {
  "kernelspec": {
   "display_name": "Python 3",
   "language": "python",
   "name": "python3"
  },
  "language_info": {
   "codemirror_mode": {
    "name": "ipython",
    "version": 3
   },
   "file_extension": ".py",
   "mimetype": "text/x-python",
   "name": "python",
   "nbconvert_exporter": "python",
   "pygments_lexer": "ipython3",
   "version": "3.7.5"
  }
 },
 "nbformat": 4,
 "nbformat_minor": 2
}